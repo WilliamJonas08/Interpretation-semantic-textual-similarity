{
  "nbformat": 4,
  "nbformat_minor": 0,
  "metadata": {
    "colab": {
      "name": "Baselines",
      "provenance": [],
      "collapsed_sections": [
        "rfCH2_dLX1Qv",
        "cu7D2dr_iSK9",
        "cxu48kLsiXut",
        "LksnpqE24Kpi",
        "nzND6A7ziOfC",
        "EaNiMAa3ZJA-",
        "RJfx6Nlv2P9Q",
        "H806JWb2h3iH",
        "OW7_k7nbh77G",
        "T_JBKgEZiYjN"
      ]
    },
    "kernelspec": {
      "name": "python3",
      "display_name": "Python 3"
    },
    "language_info": {
      "name": "python"
    }
  },
  "cells": [
    {
      "cell_type": "markdown",
      "source": [
        "**Notebook:** Création d'une baseline pour la tache d'interpretabilité sémantique textuelle"
      ],
      "metadata": {
        "id": "xTsspPMOcOl3"
      }
    },
    {
      "cell_type": "code",
      "source": [
        "import os\n",
        "import numpy as np\n",
        "import matplotlib.pyplot as plt\n",
        "\n",
        "from google.colab import drive\n",
        "drive.mount('drive', force_remount=True)"
      ],
      "metadata": {
        "colab": {
          "base_uri": "https://localhost:8080/"
        },
        "id": "rNum4AAuVvpZ",
        "outputId": "a1307fff-7eba-4723-f3a0-5aaeb298e861"
      },
      "execution_count": 1,
      "outputs": [
        {
          "output_type": "stream",
          "name": "stdout",
          "text": [
            "Mounted at drive\n"
          ]
        }
      ]
    },
    {
      "cell_type": "markdown",
      "source": [
        "#Chargement données"
      ],
      "metadata": {
        "id": "LksnpqE24Kpi"
      }
    },
    {
      "cell_type": "code",
      "source": [
        "# import re #Regular expressions operation\n",
        "\n",
        "def readFile(filename):\n",
        "    return [line.strip() for line in open(filename)]\n",
        "#.decode(\"utf-8\")\n",
        "\n",
        "def readFileWithChunks(filename):\n",
        "    lines_marked = [line.strip() for line in open(filename)]\n",
        "    # .decode(\"utf-8\")\n",
        "    lines_clean1 = [line.replace('[ ', \"\") for line in lines_marked]\n",
        "    lines_clean2 = [line.replace(' ]', \"\") for line in lines_clean1]\n",
        "    return lines_clean2"
      ],
      "metadata": {
        "id": "99FDGYXEWDvd"
      },
      "execution_count": 2,
      "outputs": []
    },
    {
      "cell_type": "code",
      "source": [
        "path_headline1_chunked = '/content/drive/MyDrive/CENTRALE MARSEILLE/3A/PSTALN/Projet PSTALN/Downloaded files/train_2015_10_22.utf-8/STSint.input.headlines.sent1.chunk.txt'\n",
        "path_headline2_chunked = '/content/drive/MyDrive/CENTRALE MARSEILLE/3A/PSTALN/Projet PSTALN/Downloaded files/train_2015_10_22.utf-8/STSint.input.headlines.sent2.chunk.txt'\n",
        "path_headline1 = '/content/drive/MyDrive/CENTRALE MARSEILLE/3A/PSTALN/Projet PSTALN/Downloaded files/train_2015_10_22.utf-8/STSint.input.headlines.sent1.txt'\n",
        "path_headline2 = '/content/drive/MyDrive/CENTRALE MARSEILLE/3A/PSTALN/Projet PSTALN/Downloaded files/train_2015_10_22.utf-8/STSint.input.headlines.sent2.txt'\n",
        "\n",
        "\n",
        "sent1_lines = readFileWithChunks(path_headline1_chunked)\n",
        "sent2_lines = readFileWithChunks(path_headline2_chunked)\n",
        "sent1_lines_chunked = readFile(path_headline1_chunked)\n",
        "sent2_lines_chunked = readFile(path_headline2_chunked)"
      ],
      "metadata": {
        "id": "ZgTIdJUi4M5L"
      },
      "execution_count": 3,
      "outputs": []
    },
    {
      "cell_type": "markdown",
      "source": [
        "Train Test split"
      ],
      "metadata": {
        "id": "gpUs6AEc43fn"
      }
    },
    {
      "cell_type": "code",
      "source": [
        "trainSamples = sent1_lines\n",
        "trainSamplesChunked = sent1_lines_chunked\n",
        "\n",
        "testSamples = sent2_lines\n",
        "testSamplesChunked = sent2_lines_chunked\n",
        "\n",
        "print('Train size:', len(trainSamples))\n",
        "print('Test size:', len(testSamples))"
      ],
      "metadata": {
        "colab": {
          "base_uri": "https://localhost:8080/"
        },
        "id": "_tsh4zcF43HW",
        "outputId": "de5114f2-bcfc-4bf0-b354-7f8eae01680a"
      },
      "execution_count": 4,
      "outputs": [
        {
          "output_type": "stream",
          "name": "stdout",
          "text": [
            "Train size: 756\n",
            "Test size: 756\n"
          ]
        }
      ]
    },
    {
      "cell_type": "markdown",
      "source": [
        "#Embeddings\n",
        "\n",
        "Chargement d'Embeddings préentrainés de type GloVe pour obtenir des représentation des mots de notre dataset"
      ],
      "metadata": {
        "id": "nzND6A7ziOfC"
      }
    },
    {
      "cell_type": "markdown",
      "source": [
        "GloVe embedding"
      ],
      "metadata": {
        "id": "9Zug8Qh4eID0"
      }
    },
    {
      "cell_type": "code",
      "execution_count": 5,
      "metadata": {
        "id": "fTEHLNRYaPgc"
      },
      "outputs": [],
      "source": [
        "# file = open('glove.twitter.27B.200.txt', encoding='utf-8') #Fichier à télécharger sur https://nlp.stanford.edu/projects/glove/\n",
        "\n",
        "# for line in file:\n",
        "#     values = line.split()\n",
        "#     word = values[0]\n",
        "#     vectors = np.sarray(values[1:])\n",
        "#     glove_vectors(word) = vectors\n",
        "# file.close()"
      ]
    },
    {
      "cell_type": "markdown",
      "source": [
        "FastText embedding"
      ],
      "metadata": {
        "id": "0VEscgJBeSDh"
      }
    },
    {
      "cell_type": "code",
      "source": [
        "#Télécharger le model pour le français sur https://fasttext.cc/docs/en/crawl-vectors.html au format texte\n",
        "\n",
        "# import io\n",
        "\n",
        "# def load_vectors(fname):\n",
        "#     fin = io.open(fname, 'r', encoding='utf-8', newline='\\n', errors='ignore')\n",
        "#     n, d = map(int, fin.readline().split())\n",
        "#     data = {}\n",
        "#     for line in fin:\n",
        "#         tokens = line.rstrip().split(' ')\n",
        "#         data[tokens[0]] = map(float, tokens[1:])\n",
        "#     return data"
      ],
      "metadata": {
        "id": "HggCZ_c2cMUj"
      },
      "execution_count": 6,
      "outputs": []
    },
    {
      "cell_type": "markdown",
      "source": [
        "#####Création Embeddings\n",
        "Inspiré de : https://keras.io/examples/nlp/pretrained_word_embeddings/"
      ],
      "metadata": {
        "id": "zHNKJ5WJfC68"
      }
    },
    {
      "cell_type": "code",
      "source": [
        "#On suppose que l'embedding est disponible (voire préentrainé si possible) : cf Mouss\n",
        "\n",
        "import numpy as np\n",
        "import tensorflow as tf\n",
        "from tensorflow import keras"
      ],
      "metadata": {
        "id": "TRXOEVkB7nBw"
      },
      "execution_count": 7,
      "outputs": []
    },
    {
      "cell_type": "markdown",
      "source": [
        "Creation vocabulaire indexes"
      ],
      "metadata": {
        "id": "OjM4R4o9UGiR"
      }
    },
    {
      "cell_type": "code",
      "source": [
        "from tensorflow.keras.layers import TextVectorization\n",
        "\n",
        "vectorizer = TextVectorization(max_tokens=20000, output_sequence_length=200)\n",
        "text_ds = tf.data.Dataset.from_tensor_slices(trainSamples).batch(128)\n",
        "vectorizer.adapt(text_ds)"
      ],
      "metadata": {
        "id": "3dbf0JDnUIp4"
      },
      "execution_count": 8,
      "outputs": []
    },
    {
      "cell_type": "code",
      "source": [
        "vectorizer.get_vocabulary()[:5]"
      ],
      "metadata": {
        "colab": {
          "base_uri": "https://localhost:8080/"
        },
        "id": "i5qV8cFYU4nK",
        "outputId": "693f2d73-5835-4fea-b82d-ea96f17cc678"
      },
      "execution_count": 9,
      "outputs": [
        {
          "output_type": "execute_result",
          "data": {
            "text/plain": [
              "['', '[UNK]', 'in', 'to', 'on']"
            ]
          },
          "metadata": {},
          "execution_count": 9
        }
      ]
    },
    {
      "cell_type": "code",
      "source": [
        "output = vectorizer([[\"the cat sat on the mat\"]])\n",
        "output.numpy()[0, :6]\n",
        "#Dans cette phrase test : 3 mots ne font pas partie du voc de notre db et sont donc '<UNK>'"
      ],
      "metadata": {
        "colab": {
          "base_uri": "https://localhost:8080/"
        },
        "id": "XJXhykbkU8gD",
        "outputId": "e662b48d-95c5-4ac4-eafa-ba6d9be4c7a3"
      },
      "execution_count": 10,
      "outputs": [
        {
          "output_type": "execute_result",
          "data": {
            "text/plain": [
              "array([17,  1,  1,  4, 17,  1])"
            ]
          },
          "metadata": {},
          "execution_count": 10
        }
      ]
    },
    {
      "cell_type": "code",
      "source": [
        "voc = vectorizer.get_vocabulary()\n",
        "word_index = dict(zip(voc, range(len(voc))))"
      ],
      "metadata": {
        "id": "UlhgWvL4VOxd"
      },
      "execution_count": 11,
      "outputs": []
    },
    {
      "cell_type": "code",
      "source": [
        "# test = [\"the\", \"cat\", \"sat\", \"on\", \"the\", \"mat\"]\n",
        "# [word_index[w] for w in test]"
      ],
      "metadata": {
        "id": "H0LXZZHUVRMd"
      },
      "execution_count": 12,
      "outputs": []
    },
    {
      "cell_type": "markdown",
      "source": [
        "Download GloVe embeddings"
      ],
      "metadata": {
        "id": "70KnPXjEQbmR"
      }
    },
    {
      "cell_type": "code",
      "source": [
        "!wget http://nlp.stanford.edu/data/glove.6B.zip"
      ],
      "metadata": {
        "colab": {
          "base_uri": "https://localhost:8080/"
        },
        "id": "GXIKaoUDQeHt",
        "outputId": "9b74aa38-3fde-4a19-83f8-f9e59da8f2e1"
      },
      "execution_count": 13,
      "outputs": [
        {
          "output_type": "stream",
          "name": "stdout",
          "text": [
            "--2022-01-05 22:45:00--  http://nlp.stanford.edu/data/glove.6B.zip\n",
            "Resolving nlp.stanford.edu (nlp.stanford.edu)... 171.64.67.140\n",
            "Connecting to nlp.stanford.edu (nlp.stanford.edu)|171.64.67.140|:80... connected.\n",
            "HTTP request sent, awaiting response... 302 Found\n",
            "Location: https://nlp.stanford.edu/data/glove.6B.zip [following]\n",
            "--2022-01-05 22:45:00--  https://nlp.stanford.edu/data/glove.6B.zip\n",
            "Connecting to nlp.stanford.edu (nlp.stanford.edu)|171.64.67.140|:443... connected.\n",
            "HTTP request sent, awaiting response... 301 Moved Permanently\n",
            "Location: http://downloads.cs.stanford.edu/nlp/data/glove.6B.zip [following]\n",
            "--2022-01-05 22:45:00--  http://downloads.cs.stanford.edu/nlp/data/glove.6B.zip\n",
            "Resolving downloads.cs.stanford.edu (downloads.cs.stanford.edu)... 171.64.64.22\n",
            "Connecting to downloads.cs.stanford.edu (downloads.cs.stanford.edu)|171.64.64.22|:80... connected.\n",
            "HTTP request sent, awaiting response... 200 OK\n",
            "Length: 862182613 (822M) [application/zip]\n",
            "Saving to: ‘glove.6B.zip’\n",
            "\n",
            "glove.6B.zip        100%[===================>] 822.24M  5.09MB/s    in 2m 40s  \n",
            "\n",
            "2022-01-05 22:47:41 (5.13 MB/s) - ‘glove.6B.zip’ saved [862182613/862182613]\n",
            "\n"
          ]
        }
      ]
    },
    {
      "cell_type": "code",
      "source": [
        "!ls\n",
        "!unzip -q glove.6B.zip"
      ],
      "metadata": {
        "id": "TPhxn3ONY0LR",
        "outputId": "57b284b6-68c2-44e2-b330-064bfbcabcf5",
        "colab": {
          "base_uri": "https://localhost:8080/"
        }
      },
      "execution_count": 14,
      "outputs": [
        {
          "output_type": "stream",
          "name": "stdout",
          "text": [
            "drive  glove.6B.zip  sample_data\n"
          ]
        }
      ]
    },
    {
      "cell_type": "code",
      "source": [
        "# path_to_glove_file = os.path.join(\n",
        "#     os.path.expanduser(\"~\"), \".keras/datasets/glove.6B.100d.txt\"\n",
        "# )\n",
        "path_to_glove_file = '/content/glove.6B.100d.txt'\n",
        "\n",
        "embeddings_index = {}\n",
        "with open(path_to_glove_file) as f:\n",
        "    for line in f:\n",
        "        word, coefs = line.split(maxsplit=1)\n",
        "        coefs = np.fromstring(coefs, \"f\", sep=\" \")\n",
        "        embeddings_index[word] = coefs\n",
        "\n",
        "print(\"Found %s word vectors.\" % len(embeddings_index))"
      ],
      "metadata": {
        "colab": {
          "base_uri": "https://localhost:8080/"
        },
        "id": "2YBsm3snRISU",
        "outputId": "2d31571f-2d14-4e88-a681-31fd62180eec"
      },
      "execution_count": 15,
      "outputs": [
        {
          "output_type": "stream",
          "name": "stdout",
          "text": [
            "Found 400000 word vectors.\n"
          ]
        }
      ]
    },
    {
      "cell_type": "code",
      "source": [
        "num_tokens = len(voc) + 2\n",
        "embedding_dim = 100\n",
        "hits = 0\n",
        "misses = 0\n",
        "\n",
        "# Prepare embedding matrix\n",
        "embedding_matrix = np.zeros((num_tokens, embedding_dim))\n",
        "for word, i in word_index.items():\n",
        "    embedding_vector = embeddings_index.get(word)\n",
        "    if embedding_vector is not None:\n",
        "        # Words not found in embedding index will be all-zeros.\n",
        "        # This includes the representation for \"padding\" and \"OOV\"\n",
        "        embedding_matrix[i] = embedding_vector\n",
        "        hits += 1\n",
        "    else:\n",
        "        misses += 1\n",
        "print(\"Converted %d words (%d misses)\" % (hits, misses))"
      ],
      "metadata": {
        "colab": {
          "base_uri": "https://localhost:8080/"
        },
        "id": "GYHB-aRoRLWM",
        "outputId": "1df5ce99-3be5-46b4-f606-82ca642c2b4b"
      },
      "execution_count": 16,
      "outputs": [
        {
          "output_type": "stream",
          "name": "stdout",
          "text": [
            "Converted 2075 words (58 misses)\n"
          ]
        }
      ]
    },
    {
      "cell_type": "markdown",
      "source": [
        "#Chunking"
      ],
      "metadata": {
        "id": "EN3_Qiv17k1t"
      }
    },
    {
      "cell_type": "markdown",
      "source": [
        "####Preprocessing\n",
        "\n",
        "> y_train / y_test"
      ],
      "metadata": {
        "id": "EaNiMAa3ZJA-"
      }
    },
    {
      "cell_type": "markdown",
      "source": [
        "#####BIO Encoding"
      ],
      "metadata": {
        "id": "rEM-Bn35QtQ9"
      }
    },
    {
      "cell_type": "code",
      "source": [
        "def removeNoise(line):\n",
        "    noiseTokens = ['[', ']', ',', '.', ':', ';', '\"', \"'\", \"''\", \"`\", \"-\",]\n",
        "    for token in noiseTokens:\n",
        "      line = line.replace(token, \"\")\n",
        "    return line\n",
        "\n",
        "\n",
        "def chunkedLine2ListChunks(line):\n",
        "  line = removeNoise(line)\n",
        "  line = line.split('  ') #Ca c'est de la bidouille mais ça marchera eheh\n",
        "  for chunk in line:\n",
        "    if len(chunk)==0: \n",
        "      while chunk in line:\n",
        "        del line[line.index(chunk)]\n",
        "  return line\n",
        "\n",
        "\n",
        "def isInsideChunk(word, chunk):\n",
        "  \"\"\"\n",
        "  Returns True if word have to be encoded as a O (BIO)\n",
        "  Else False\n",
        "  \"\"\"\n",
        "  return word in chunk\n",
        "\n",
        "# ex = sent1_lines_chunked[0]\n",
        "# l = chunkedLine2ListChunks(ex)\n",
        "# print(\"Nazi\" in l[0])\n",
        "# print(isInsideChunk(\"Nazi\", l[0]))\n",
        "\n",
        "\n",
        "def isFirstChunkWord(word, chunk):\n",
        "  \"\"\"\n",
        "  On suppose que le mot est présent dans le chunk\n",
        "\n",
        "  Returns True if word have to be encoded as a B (BIO)\n",
        "  Else False if word have to be encoded as a I (BIO)\n",
        "  \"\"\"\n",
        "  chunk = chunk.split()\n",
        "  return chunk[0] == word\n",
        "\n",
        "# isFirstChunkWord(\"Nazi\", l[0])\n",
        "\n",
        "def wordBIOencoding(word, chunk):\n",
        "  if isInsideChunk(word, chunk):\n",
        "    if isFirstChunkWord(word, chunk): return 'B'\n",
        "    else : return 'I'\n",
        "  else : return 'O'\n",
        "\n",
        "def sentenceBIOencoding(line, chunkedLine):\n",
        "  '''\n",
        "  La pertinence du 'O' n'est pas évidente ici étant donné que tous les mots de line semblent faire partie d'un chunk de chunkedLine\n",
        "  '''\n",
        "\n",
        "  words = line.split()\n",
        "  chunks = chunkedLine2ListChunks(chunkedLine)\n",
        "  BIOcodes = []\n",
        "\n",
        "  currentChunk = 0\n",
        "\n",
        "  for word in words:\n",
        "    code = wordBIOencoding(word, chunks[currentChunk])\n",
        "\n",
        "    if code == 'O':\n",
        "      if currentChunk+1<len(chunks):\n",
        "        currentChunk+=1 #Attention on explore le chunk suivant (si jamais c'est le début d'un autre chunk)\n",
        "        test_code = wordBIOencoding(word, chunks[currentChunk])\n",
        "        if test_code == 'B':\n",
        "          code = test_code\n",
        "\n",
        "    BIOcodes.append(code)\n",
        "  return BIOcodes\n",
        "\n",
        "\n",
        "# for idx in range(3):\n",
        "#   ex = sent1_lines_chunked[idx]\n",
        "#   print(ex)\n",
        "#   l = chunkedLine2ListChunks(ex)\n",
        "#   print(l)\n",
        "#   print()\n",
        "\n",
        "\n",
        "# nbSamples = 3 #len(sent1_lines)\n",
        "# for line, chunkedLine in zip(sent1_lines[:nbSamples], sent1_lines_chunked[:nbSamples]):\n",
        "#   BIOcodes = sentenceBIOencoding(line, chunkedLine)\n",
        "#   print(line.split())\n",
        "#   print(BIOcodes)\n",
        "#   print(chunkedLine)\n",
        "#   print()"
      ],
      "metadata": {
        "id": "tJ3WhMTNhxj7"
      },
      "execution_count": 17,
      "outputs": []
    },
    {
      "cell_type": "code",
      "source": [
        "BIO_y_train = []  #Contains BIO codes\n",
        "BIO_y_test = []\n",
        "\n",
        "nbSamples = len(trainSamples)\n",
        "for line, chunkedLine in zip(trainSamples[:nbSamples], trainSamplesChunked[:nbSamples]):\n",
        "    BIOcodes = sentenceBIOencoding(line, chunkedLine)\n",
        "    BIO_y_train.append(BIOcodes)\n",
        "\n",
        "nbSamples = len(testSamples)\n",
        "for line, chunkedLine in zip(testSamples[:nbSamples], testSamplesChunked[:nbSamples]):\n",
        "    BIOcodes = sentenceBIOencoding(line, chunkedLine)\n",
        "    BIO_y_test.append(BIOcodes)\n",
        "\n",
        "print(len(trainSamples), len(BIO_y_train))\n",
        "print(trainSamplesChunked[0])\n",
        "print(BIO_y_train[0])"
      ],
      "metadata": {
        "colab": {
          "base_uri": "https://localhost:8080/"
        },
        "id": "d11QAAaTSzlh",
        "outputId": "60d566b1-9145-41aa-9d84-07698b0e2beb"
      },
      "execution_count": 18,
      "outputs": [
        {
          "output_type": "stream",
          "name": "stdout",
          "text": [
            "756 756\n",
            "[ Former Nazi death camp guard Demjanjuk ] [ dead ] [ at 91 ]\n",
            "['B', 'I', 'I', 'I', 'I', 'I', 'B', 'B', 'I']\n"
          ]
        }
      ]
    },
    {
      "cell_type": "markdown",
      "source": [
        "#####Conversion caractères BIO en entiers"
      ],
      "metadata": {
        "id": "Q6rKpdbdSq8p"
      }
    },
    {
      "cell_type": "code",
      "source": [
        "from sklearn.preprocessing import LabelEncoder\n",
        "\n",
        "labelEncoder = LabelEncoder()\n",
        "labelEncoder.fit(['B', 'I', 'O'])\n",
        "print(labelEncoder.transform(['B', 'I', 'O']))"
      ],
      "metadata": {
        "colab": {
          "base_uri": "https://localhost:8080/"
        },
        "id": "S6PlUUGVS3Nr",
        "outputId": "760bba2d-8267-49b3-e303-25832ae623a8"
      },
      "execution_count": 19,
      "outputs": [
        {
          "output_type": "stream",
          "name": "stdout",
          "text": [
            "[0 1 2]\n"
          ]
        }
      ]
    },
    {
      "cell_type": "code",
      "source": [
        "BIO_int_y_train = []\n",
        "BIO_int_y_test = []\n",
        "\n",
        "for line in BIO_y_train:\n",
        "  BIO_int_y_train.append(labelEncoder.transform(np.array(line)))\n",
        "\n",
        "for line in BIO_y_test:\n",
        "  BIO_int_y_test.append(labelEncoder.transform(np.array(line)))\n",
        "\n",
        "print(trainSamplesChunked[0])\n",
        "print(BIO_y_train[0])\n",
        "print(BIO_int_y_train[0])"
      ],
      "metadata": {
        "colab": {
          "base_uri": "https://localhost:8080/"
        },
        "id": "sFSa_hKN1ISv",
        "outputId": "0c449abc-47aa-4995-f12b-30b3955e978e"
      },
      "execution_count": 20,
      "outputs": [
        {
          "output_type": "stream",
          "name": "stdout",
          "text": [
            "[ Former Nazi death camp guard Demjanjuk ] [ dead ] [ at 91 ]\n",
            "['B', 'I', 'I', 'I', 'I', 'I', 'B', 'B', 'I']\n",
            "[0 1 1 1 1 1 0 0 1]\n"
          ]
        }
      ]
    },
    {
      "cell_type": "markdown",
      "source": [
        "#####Conservion One Hot "
      ],
      "metadata": {
        "id": "2c872Ewr2a7d"
      }
    },
    {
      "cell_type": "code",
      "source": [
        "from keras.utils import np_utils\n",
        "\n",
        "y_train = []  #One hot encoded\n",
        "y_test = []\n",
        "\n",
        "for line in BIO_int_y_train:\n",
        "  y_train.append(np_utils.to_categorical(line, num_classes=3))\n",
        "\n",
        "for line in BIO_int_y_test:\n",
        "  y_test.append(np_utils.to_categorical(line, num_classes=3))\n",
        "\n",
        "print(trainSamplesChunked[0])\n",
        "print(BIO_y_train[0])\n",
        "print(BIO_int_y_train[0])\n",
        "print(y_train[0])"
      ],
      "metadata": {
        "colab": {
          "base_uri": "https://localhost:8080/"
        },
        "id": "xvFeLmWg0W03",
        "outputId": "4dea7e31-fab7-4453-9d4e-f73d6459e01a"
      },
      "execution_count": 21,
      "outputs": [
        {
          "output_type": "stream",
          "name": "stdout",
          "text": [
            "[ Former Nazi death camp guard Demjanjuk ] [ dead ] [ at 91 ]\n",
            "['B', 'I', 'I', 'I', 'I', 'I', 'B', 'B', 'I']\n",
            "[0 1 1 1 1 1 0 0 1]\n",
            "[[1. 0. 0.]\n",
            " [0. 1. 0.]\n",
            " [0. 1. 0.]\n",
            " [0. 1. 0.]\n",
            " [0. 1. 0.]\n",
            " [0. 1. 0.]\n",
            " [1. 0. 0.]\n",
            " [1. 0. 0.]\n",
            " [0. 1. 0.]]\n"
          ]
        }
      ]
    },
    {
      "cell_type": "markdown",
      "source": [
        "#####Conversion format input X"
      ],
      "metadata": {
        "id": "AWijycYa_TDK"
      }
    },
    {
      "cell_type": "code",
      "source": [
        "def preprocessLines(lines):\n",
        "  return np.array(vectorizer(np.array([[s] for s in lines])))\n",
        "\n",
        "x_train = preprocessLines(trainSamples)\n",
        "x_test = preprocessLines(testSamples)\n",
        "\n",
        "print(x_train.shape)\n",
        "print(x_test.shape)"
      ],
      "metadata": {
        "colab": {
          "base_uri": "https://localhost:8080/"
        },
        "id": "NNs7C1OF_Yg7",
        "outputId": "4efae8ad-3116-42ba-fbb3-7aa5b9484cd4"
      },
      "execution_count": 22,
      "outputs": [
        {
          "output_type": "stream",
          "name": "stdout",
          "text": [
            "(756, 200)\n",
            "(756, 200)\n"
          ]
        }
      ]
    },
    {
      "cell_type": "markdown",
      "source": [
        "#####Conversion format input Y\n",
        "\n",
        "> On complète le nombre de prédictions attendues pour en avoir le même nombre que de môts dans un sample de X (paddings INCLUS)"
      ],
      "metadata": {
        "id": "MCoRbhpbbL6l"
      }
    },
    {
      "cell_type": "code",
      "source": [
        "predictionForPaddingWord = [0, 0, 2]  # = 'O'\n",
        "lenSentence = x_train.shape[1]\n",
        "\n",
        "def completeLineLabels(lineLabels, lenSentence):\n",
        "  '''\n",
        "  Add 'O' labels for Padding words\n",
        "  '''\n",
        "  nbWordsInSample = len(lineLabels)\n",
        "  nbPaddingLabelsToAdd = lenSentence-nbWordsInSample\n",
        "\n",
        "  paddingLabels = np.array([predictionForPaddingWord for i in range(nbPaddingLabelsToAdd)])\n",
        "  lineLabels = np.concatenate((lineLabels,paddingLabels))\n",
        "\n",
        "  return lineLabels\n",
        "\n",
        "#Test\n",
        "y = np.array(completeLineLabels(y_train[0], 200))\n",
        "print(y.shape)"
      ],
      "metadata": {
        "colab": {
          "base_uri": "https://localhost:8080/"
        },
        "id": "QC3FCv8z_erE",
        "outputId": "73af6ef0-1cb9-4d06-d03f-6d69fb3f5289"
      },
      "execution_count": 23,
      "outputs": [
        {
          "output_type": "stream",
          "name": "stdout",
          "text": [
            "(200, 3)\n"
          ]
        }
      ]
    },
    {
      "cell_type": "code",
      "source": [
        "y_train = np.array([np.array(completeLineLabels(line_labels, lenSentence)) for line_labels in y_train])\n",
        "y_test = np.array([np.array(completeLineLabels(line_labels, lenSentence)) for line_labels in y_test])\n",
        "\n",
        "print(y_train.shape)\n",
        "print(\"Sample size\", y_train[0].shape)"
      ],
      "metadata": {
        "colab": {
          "base_uri": "https://localhost:8080/"
        },
        "id": "SvkhLr2KBmrw",
        "outputId": "bba8a8d5-94c7-4c2d-d9c9-1063e55ae0ba"
      },
      "execution_count": 24,
      "outputs": [
        {
          "output_type": "stream",
          "name": "stdout",
          "text": [
            "(756, 200, 3)\n",
            "Sample size (200, 3)\n"
          ]
        }
      ]
    },
    {
      "cell_type": "markdown",
      "source": [
        "####Modèle tagging : Simple RNN"
      ],
      "metadata": {
        "id": "zppkWKJ4iTHH"
      }
    },
    {
      "cell_type": "code",
      "source": [
        "from keras.models import Sequential\n",
        "from keras.layers import Dense, SimpleRNN, Embedding, Input\n",
        "\n",
        "nbClasses = 3 #BIO\n",
        "\n",
        "# SimpleRNN model\n",
        "model = Sequential()\n",
        "model.add(Input(shape=(None,), dtype=\"int64\"))  #integer_sequences_input\n",
        "model.add(Embedding(\n",
        "    input_dim=num_tokens, #Size of the vocabulary\n",
        "    output_dim=embedding_dim,\n",
        "    embeddings_initializer=keras.initializers.Constant(embedding_matrix),\n",
        "    trainable=False #Don't want to update embeddings\n",
        "                    ))\n",
        "model.add(SimpleRNN(units=nbClasses, #dim hidden state returned\n",
        "                    activation=\"softmax\", \n",
        "                    return_sequences=True\n",
        "                    )) #return_sequences=False pour obtenir uniquement la derniere couche RNN\n",
        "\n",
        "model.compile(loss=\"categorical_crossentropy\", optimizer=\"rmsprop\", metrics=[\"acc\"])\n",
        "\n",
        "model.summary()"
      ],
      "metadata": {
        "colab": {
          "base_uri": "https://localhost:8080/"
        },
        "id": "bwleqItMiaC2",
        "outputId": "d364cdad-a5b7-41ec-aa42-d536f777a938"
      },
      "execution_count": 25,
      "outputs": [
        {
          "output_type": "stream",
          "name": "stdout",
          "text": [
            "Model: \"sequential\"\n",
            "_________________________________________________________________\n",
            " Layer (type)                Output Shape              Param #   \n",
            "=================================================================\n",
            " embedding (Embedding)       (None, None, 100)         213500    \n",
            "                                                                 \n",
            " simple_rnn (SimpleRNN)      (None, None, 3)           312       \n",
            "                                                                 \n",
            "=================================================================\n",
            "Total params: 213,812\n",
            "Trainable params: 312\n",
            "Non-trainable params: 213,500\n",
            "_________________________________________________________________\n"
          ]
        }
      ]
    },
    {
      "cell_type": "markdown",
      "source": [
        "Entrainement"
      ],
      "metadata": {
        "id": "W46wguvq0JpX"
      }
    },
    {
      "cell_type": "code",
      "source": [
        "history = model.fit(x_train, y_train, epochs=50, batch_size=32, verbose=2, validation_data=(x_test, y_test))"
      ],
      "metadata": {
        "colab": {
          "base_uri": "https://localhost:8080/"
        },
        "id": "HHcTOcLmW5CD",
        "outputId": "71707d2c-e060-4f4c-b4ae-d9d569b63c84"
      },
      "execution_count": 26,
      "outputs": [
        {
          "output_type": "stream",
          "name": "stdout",
          "text": [
            "Epoch 1/50\n",
            "24/24 - 3s - loss: 1.6611 - acc: 0.9772 - val_loss: 1.5779 - val_acc: 0.9772 - 3s/epoch - 135ms/step\n",
            "Epoch 2/50\n",
            "24/24 - 1s - loss: 1.5167 - acc: 0.9792 - val_loss: 1.4503 - val_acc: 0.9778 - 1s/epoch - 58ms/step\n",
            "Epoch 3/50\n",
            "24/24 - 1s - loss: 1.3939 - acc: 0.9801 - val_loss: 1.3330 - val_acc: 0.9785 - 1s/epoch - 57ms/step\n",
            "Epoch 4/50\n",
            "24/24 - 1s - loss: 1.2802 - acc: 0.9808 - val_loss: 1.2241 - val_acc: 0.9789 - 1s/epoch - 56ms/step\n",
            "Epoch 5/50\n",
            "24/24 - 1s - loss: 1.1747 - acc: 0.9816 - val_loss: 1.1232 - val_acc: 0.9796 - 1s/epoch - 56ms/step\n",
            "Epoch 6/50\n",
            "24/24 - 1s - loss: 1.0772 - acc: 0.9824 - val_loss: 1.0301 - val_acc: 0.9802 - 1s/epoch - 56ms/step\n",
            "Epoch 7/50\n",
            "24/24 - 1s - loss: 0.9873 - acc: 0.9830 - val_loss: 0.9444 - val_acc: 0.9805 - 1s/epoch - 55ms/step\n",
            "Epoch 8/50\n",
            "24/24 - 1s - loss: 0.9047 - acc: 0.9833 - val_loss: 0.8658 - val_acc: 0.9807 - 1s/epoch - 55ms/step\n",
            "Epoch 9/50\n",
            "24/24 - 1s - loss: 0.8289 - acc: 0.9836 - val_loss: 0.7938 - val_acc: 0.9812 - 1s/epoch - 55ms/step\n",
            "Epoch 10/50\n",
            "24/24 - 1s - loss: 0.7595 - acc: 0.9840 - val_loss: 0.7280 - val_acc: 0.9812 - 1s/epoch - 54ms/step\n",
            "Epoch 11/50\n",
            "24/24 - 1s - loss: 0.6960 - acc: 0.9842 - val_loss: 0.6678 - val_acc: 0.9813 - 1s/epoch - 56ms/step\n",
            "Epoch 12/50\n",
            "24/24 - 1s - loss: 0.6380 - acc: 0.9844 - val_loss: 0.6129 - val_acc: 0.9815 - 1s/epoch - 58ms/step\n",
            "Epoch 13/50\n",
            "24/24 - 1s - loss: 0.5851 - acc: 0.9845 - val_loss: 0.5627 - val_acc: 0.9816 - 1s/epoch - 56ms/step\n",
            "Epoch 14/50\n",
            "24/24 - 1s - loss: 0.5368 - acc: 0.9848 - val_loss: 0.5170 - val_acc: 0.9817 - 1s/epoch - 56ms/step\n",
            "Epoch 15/50\n",
            "24/24 - 1s - loss: 0.4927 - acc: 0.9849 - val_loss: 0.4754 - val_acc: 0.9818 - 1s/epoch - 56ms/step\n",
            "Epoch 16/50\n",
            "24/24 - 1s - loss: 0.4525 - acc: 0.9849 - val_loss: 0.4374 - val_acc: 0.9820 - 1s/epoch - 55ms/step\n",
            "Epoch 17/50\n",
            "24/24 - 1s - loss: 0.4158 - acc: 0.9851 - val_loss: 0.4028 - val_acc: 0.9820 - 1s/epoch - 55ms/step\n",
            "Epoch 18/50\n",
            "24/24 - 1s - loss: 0.3824 - acc: 0.9851 - val_loss: 0.3713 - val_acc: 0.9821 - 1s/epoch - 57ms/step\n",
            "Epoch 19/50\n",
            "24/24 - 1s - loss: 0.3520 - acc: 0.9852 - val_loss: 0.3426 - val_acc: 0.9821 - 1s/epoch - 53ms/step\n",
            "Epoch 20/50\n",
            "24/24 - 1s - loss: 0.3242 - acc: 0.9851 - val_loss: 0.3164 - val_acc: 0.9821 - 1s/epoch - 51ms/step\n",
            "Epoch 21/50\n",
            "24/24 - 1s - loss: 0.2989 - acc: 0.9852 - val_loss: 0.2927 - val_acc: 0.9822 - 1s/epoch - 55ms/step\n",
            "Epoch 22/50\n",
            "24/24 - 1s - loss: 0.2759 - acc: 0.9851 - val_loss: 0.2711 - val_acc: 0.9822 - 1s/epoch - 55ms/step\n",
            "Epoch 23/50\n",
            "24/24 - 1s - loss: 0.2549 - acc: 0.9851 - val_loss: 0.2514 - val_acc: 0.9823 - 1s/epoch - 55ms/step\n",
            "Epoch 24/50\n",
            "24/24 - 1s - loss: 0.2357 - acc: 0.9852 - val_loss: 0.2336 - val_acc: 0.9824 - 1s/epoch - 55ms/step\n",
            "Epoch 25/50\n",
            "24/24 - 1s - loss: 0.2183 - acc: 0.9852 - val_loss: 0.2173 - val_acc: 0.9822 - 1s/epoch - 56ms/step\n",
            "Epoch 26/50\n",
            "24/24 - 1s - loss: 0.2025 - acc: 0.9852 - val_loss: 0.2025 - val_acc: 0.9823 - 1s/epoch - 55ms/step\n",
            "Epoch 27/50\n",
            "24/24 - 1s - loss: 0.1880 - acc: 0.9851 - val_loss: 0.1891 - val_acc: 0.9823 - 1s/epoch - 57ms/step\n",
            "Epoch 28/50\n",
            "24/24 - 1s - loss: 0.1748 - acc: 0.9852 - val_loss: 0.1768 - val_acc: 0.9823 - 1s/epoch - 56ms/step\n",
            "Epoch 29/50\n",
            "24/24 - 1s - loss: 0.1628 - acc: 0.9853 - val_loss: 0.1656 - val_acc: 0.9822 - 1s/epoch - 56ms/step\n",
            "Epoch 30/50\n",
            "24/24 - 1s - loss: 0.1519 - acc: 0.9853 - val_loss: 0.1555 - val_acc: 0.9823 - 1s/epoch - 56ms/step\n",
            "Epoch 31/50\n",
            "24/24 - 1s - loss: 0.1419 - acc: 0.9853 - val_loss: 0.1463 - val_acc: 0.9825 - 1s/epoch - 56ms/step\n",
            "Epoch 32/50\n",
            "24/24 - 1s - loss: 0.1328 - acc: 0.9854 - val_loss: 0.1379 - val_acc: 0.9825 - 1s/epoch - 55ms/step\n",
            "Epoch 33/50\n",
            "24/24 - 1s - loss: 0.1245 - acc: 0.9855 - val_loss: 0.1302 - val_acc: 0.9825 - 1s/epoch - 56ms/step\n",
            "Epoch 34/50\n",
            "24/24 - 1s - loss: 0.1169 - acc: 0.9855 - val_loss: 0.1233 - val_acc: 0.9825 - 1s/epoch - 54ms/step\n",
            "Epoch 35/50\n",
            "24/24 - 1s - loss: 0.1100 - acc: 0.9855 - val_loss: 0.1171 - val_acc: 0.9825 - 1s/epoch - 57ms/step\n",
            "Epoch 36/50\n",
            "24/24 - 1s - loss: 0.1037 - acc: 0.9856 - val_loss: 0.1113 - val_acc: 0.9826 - 1s/epoch - 55ms/step\n",
            "Epoch 37/50\n",
            "24/24 - 1s - loss: 0.0980 - acc: 0.9856 - val_loss: 0.1061 - val_acc: 0.9826 - 1s/epoch - 54ms/step\n",
            "Epoch 38/50\n",
            "24/24 - 1s - loss: 0.0927 - acc: 0.9857 - val_loss: 0.1013 - val_acc: 0.9826 - 1s/epoch - 56ms/step\n",
            "Epoch 39/50\n",
            "24/24 - 1s - loss: 0.0880 - acc: 0.9858 - val_loss: 0.0970 - val_acc: 0.9827 - 1s/epoch - 55ms/step\n",
            "Epoch 40/50\n",
            "24/24 - 1s - loss: 0.0836 - acc: 0.9858 - val_loss: 0.0931 - val_acc: 0.9828 - 1s/epoch - 55ms/step\n",
            "Epoch 41/50\n",
            "24/24 - 1s - loss: 0.0796 - acc: 0.9859 - val_loss: 0.0895 - val_acc: 0.9828 - 1s/epoch - 56ms/step\n",
            "Epoch 42/50\n",
            "24/24 - 1s - loss: 0.0760 - acc: 0.9858 - val_loss: 0.0862 - val_acc: 0.9828 - 1s/epoch - 55ms/step\n",
            "Epoch 43/50\n",
            "24/24 - 1s - loss: 0.0727 - acc: 0.9858 - val_loss: 0.0833 - val_acc: 0.9827 - 1s/epoch - 55ms/step\n",
            "Epoch 44/50\n",
            "24/24 - 1s - loss: 0.0697 - acc: 0.9859 - val_loss: 0.0807 - val_acc: 0.9827 - 1s/epoch - 54ms/step\n",
            "Epoch 45/50\n",
            "24/24 - 1s - loss: 0.0670 - acc: 0.9858 - val_loss: 0.0783 - val_acc: 0.9827 - 1s/epoch - 55ms/step\n",
            "Epoch 46/50\n",
            "24/24 - 1s - loss: 0.0645 - acc: 0.9858 - val_loss: 0.0761 - val_acc: 0.9828 - 1s/epoch - 54ms/step\n",
            "Epoch 47/50\n",
            "24/24 - 1s - loss: 0.0623 - acc: 0.9858 - val_loss: 0.0742 - val_acc: 0.9828 - 1s/epoch - 55ms/step\n",
            "Epoch 48/50\n",
            "24/24 - 1s - loss: 0.0602 - acc: 0.9859 - val_loss: 0.0724 - val_acc: 0.9828 - 1s/epoch - 56ms/step\n",
            "Epoch 49/50\n",
            "24/24 - 1s - loss: 0.0583 - acc: 0.9860 - val_loss: 0.0709 - val_acc: 0.9829 - 1s/epoch - 54ms/step\n",
            "Epoch 50/50\n",
            "24/24 - 1s - loss: 0.0567 - acc: 0.9859 - val_loss: 0.0695 - val_acc: 0.9830 - 1s/epoch - 55ms/step\n"
          ]
        }
      ]
    },
    {
      "cell_type": "code",
      "source": [
        "print(history.history.keys())\n",
        "# summarize history for accuracy\n",
        "plt.plot(history.history['acc'])\n",
        "plt.plot(history.history['val_acc'])\n",
        "plt.title('model accuracy')\n",
        "plt.ylabel('accuracy')\n",
        "plt.xlabel('epoch')\n",
        "plt.legend(['train', 'test'], loc='upper left')\n",
        "plt.show()\n",
        "# summarize history for loss\n",
        "plt.plot(history.history['loss'])\n",
        "plt.plot(history.history['val_loss'])\n",
        "plt.title('model loss')\n",
        "plt.ylabel('loss')\n",
        "plt.xlabel('epoch')\n",
        "plt.legend(['train', 'test'], loc='upper left')\n",
        "plt.show()"
      ],
      "metadata": {
        "colab": {
          "base_uri": "https://localhost:8080/",
          "height": 0
        },
        "id": "cvXgjigYpPb6",
        "outputId": "e60a3d76-9c45-448c-ee53-7d1b971bfad0"
      },
      "execution_count": 27,
      "outputs": [
        {
          "output_type": "stream",
          "name": "stdout",
          "text": [
            "dict_keys(['loss', 'acc', 'val_loss', 'val_acc'])\n"
          ]
        },
        {
          "output_type": "display_data",
          "data": {
            "image/png": "[encoded data removed]",
            "text/plain": [
              "<Figure size 432x288 with 1 Axes>"
            ]
          },
          "metadata": {
            "needs_background": "light"
          }
        },
        {
          "output_type": "display_data",
          "data": {
            "image/png": "[encoded data removed]",
            "text/plain": [
              "<Figure size 432x288 with 1 Axes>"
            ]
          },
          "metadata": {
            "needs_background": "light"
          }
        }
      ]
    },
    {
      "cell_type": "markdown",
      "source": [
        "####Evaluation"
      ],
      "metadata": {
        "id": "T_JBKgEZiYjN"
      }
    },
    {
      "cell_type": "code",
      "source": [
        "def getBatchAccuracy(y_pred, y_true):\n",
        "  '''\n",
        "  Input\n",
        "  -----\n",
        "  Batch labels hot encoded of dimension batch_size x 200 x 3\n",
        "  '''\n",
        "  assert len(y_pred.shape) == len(y_true.shape) == 3 \n",
        "\n",
        "  sum_acc = 0\n",
        "  for i in range(len(y_pred)):\n",
        "    sum_acc += getSampleAccuracy(y_pred[i], y_true[i])  #Attention ici on ne défini pas une prédiction de chunking de phrase uniquement comme correcte ou non, mais possiblement partiellement correcte\n",
        "  return sum_acc / len(y_pred)\n",
        "\n",
        "\n",
        "def getSampleAccuracy(y_sample_pred, y_sample_true):\n",
        "  '''\n",
        "  Input\n",
        "  -----\n",
        "  Sentence/Sample labels hot encoded of dimension 200 x 3\n",
        "  '''\n",
        "  assert len(y_sample_pred.shape) == len(y_sample_true.shape) == 2\n",
        "\n",
        "  pred_labels_integers = np.argmax(y_sample_pred, axis=1)\n",
        "  true_labels_integers = np.argmax(y_sample_true, axis=1)\n",
        "\n",
        "  true_counts = 0\n",
        "  for i in range(len(pred_labels_integers)):\n",
        "    if true_labels_integers[i] == pred_labels_integers[i]:\n",
        "      true_counts +=1\n",
        "  return true_counts/len(pred_labels_integers)"
      ],
      "metadata": {
        "id": "GovzKo-DiaWQ"
      },
      "execution_count": 28,
      "outputs": []
    },
    {
      "cell_type": "code",
      "source": [
        "y_pred = model.predict(x_test)\n",
        "\n",
        "acc = getBatchAccuracy(y_pred=y_pred, y_true=y_test)\n",
        "print(acc)"
      ],
      "metadata": {
        "colab": {
          "base_uri": "https://localhost:8080/"
        },
        "id": "NzqbMuPxUY7v",
        "outputId": "baab4b91-6e02-4b0a-f559-41b48e6d5358"
      },
      "execution_count": 29,
      "outputs": [
        {
          "output_type": "stream",
          "name": "stdout",
          "text": [
            "0.9829629629629723\n"
          ]
        }
      ]
    },
    {
      "cell_type": "markdown",
      "source": [
        "####Chunking : Construction de phrases 'chunkées' à partir de phrases non-chunkées"
      ],
      "metadata": {
        "id": "PPZI5DHqU2hm"
      }
    },
    {
      "cell_type": "code",
      "source": [
        "def startChunk(word):\n",
        "  return '[ ' + word\n",
        "\n",
        "def endChunk(word):\n",
        "  return word + ' ]'\n",
        "\n",
        "def chunkLine(line, line_labels_integers, showErrors):\n",
        "\n",
        "  new_line = line.split()\n",
        "  previous_label = -1\n",
        "\n",
        "  i = -1\n",
        "  for word, label in zip(\n",
        "                        line.split(),\n",
        "                        line_labels_integers[:len(line.split())]\n",
        "                        ):\n",
        "    i +=1\n",
        "    if label == 0:  #\"B\"\n",
        "      new_line[i] = startChunk(word)\n",
        "      if previous_label == 1 or previous_label == 0:\n",
        "        new_line[i-1] = endChunk(new_line[i-1])\n",
        "      previous_label = 0\n",
        "\n",
        "    if label == 2:  #'O'\n",
        "      if previous_label == 0 or previous_label== 1:\n",
        "        new_line[i-1] = endChunk(new_line[i-1])\n",
        "      previous_label = 2\n",
        "\n",
        "    if label == 1 : #'I'\n",
        "      if previous_label == 2: \n",
        "        if showErrors : print(f\"Oups il y a eu une erreur de classification du mot '{word}' dans la phrase \\n {line}\\n\")\n",
        "      if previous_label == -1:  #Problème de prédiction d'un I en début de phrase pour des noms propres ...\n",
        "        if showErrors : print(f\"Erreur début de phrase : '{word}'\\n {line}\\n\")\n",
        "        new_line[i] = startChunk(word)  #TODO : améliorer\n",
        "      previous_label = 1\n",
        "\n",
        "    if i == len(line.split()) - 1:  #Fin de phrase\n",
        "      if label == 0 or label == 1: # 'B' ou 'I'\n",
        "        new_line[i] = endChunk(word)\n",
        "    \n",
        "  separator = ' '\n",
        "  new_line = separator.join(new_line)\n",
        "  return new_line\n",
        "\n",
        "def chunkDataset(lines, showErrors=False):\n",
        "\n",
        "  #Preprocess 'lines' pour prédictions\n",
        "  x= preprocessLines(lines)\n",
        "\n",
        "  y_pred = model.predict(x)\n",
        "  lines_labels_integers = np.argmax(y_pred, axis=2)\n",
        "\n",
        "  chunkedLines = []\n",
        "\n",
        "  for line, line_labels_integers in zip(lines, lines_labels_integers):\n",
        "    chunkedLines.append(chunkLine(line, line_labels_integers, showErrors))\n",
        "\n",
        "  return chunkedLines"
      ],
      "metadata": {
        "id": "PewUU3wCU83g"
      },
      "execution_count": 30,
      "outputs": []
    },
    {
      "cell_type": "code",
      "source": [
        "chunkedLines = chunkDataset(testSamples, showErrors=False)\n",
        "nb = 3\n",
        "\n",
        "#Pour affichage uniquement\n",
        "x= preprocessLines(testSamples)\n",
        "y_pred = model.predict(x)\n",
        "lines_labels_integers = np.argmax(y_pred, axis=2)\n",
        "\n",
        "for line, trueChunkedLine, chunkedLine, lineLabels in zip(testSamples[:nb], testSamplesChunked[:nb], chunkedLines[:nb], lines_labels_integers[:nb]):\n",
        "  print('Line : \\t\\t\\t\\t', line)\n",
        "  print('True chunked line : \\t\\t', trueChunkedLine)\n",
        "  print('Predicted chunked line : \\t', chunkedLine)\n",
        "  print('Predicted labels : \\t\\t', lineLabels[:len(line.split())])\n",
        "  print()"
      ],
      "metadata": {
        "colab": {
          "base_uri": "https://localhost:8080/"
        },
        "id": "HOIZiVkvcsmg",
        "outputId": "406a9086-2179-4c4e-abcf-99e58fe97cd4"
      },
      "execution_count": 31,
      "outputs": [
        {
          "output_type": "stream",
          "name": "stdout",
          "text": [
            "Line : \t\t\t\t John Demjanjuk , convicted Nazi death camp guard , dies aged 91\n",
            "True chunked line : \t\t [ John Demjanjuk ] [ , ] [ convicted Nazi death camp guard ] [ , ] [ dies ] [ aged 91 ]\n",
            "Predicted chunked line : \t [ John Demjanjuk ] [ , convicted ] [ Nazi death camp ] [ guard ] , dies aged 91\n",
            "Predicted labels : \t\t [1 1 0 1 0 1 1 0 2 2 2 2]\n",
            "\n",
            "Line : \t\t\t\t Saudi Women Allowed To Compete At Olympics\n",
            "True chunked line : \t\t [ Saudi Women ] [ Allowed ] [ To Compete ] [ At Olympics ]\n",
            "Predicted chunked line : \t [ Saudi ] [ Women ] Allowed [ To Compete ] [ At Olympics ]\n",
            "Predicted labels : \t\t [0 0 2 0 1 0 1]\n",
            "\n",
            "Line : \t\t\t\t Drone strike kills four suspected militants in Pakistan\n",
            "True chunked line : \t\t [ Drone strike ] [ kills ] [ four suspected militants ] [ in Pakistan ]\n",
            "Predicted chunked line : \t [ Drone strike ] [ kills ] [ four ] [ suspected militants ] [ in Pakistan ]\n",
            "Predicted labels : \t\t [0 1 0 0 0 1 0 1]\n",
            "\n"
          ]
        }
      ]
    },
    {
      "cell_type": "markdown",
      "source": [
        "#Alignement"
      ],
      "metadata": {
        "id": "7IlMpjIA7nm9"
      }
    },
    {
      "cell_type": "code",
      "source": [
        "import pandas as pd \n",
        "import numpy as np\n",
        "from math import *\n",
        "\n",
        "def norm(x):\n",
        "    norm=0\n",
        "    for elt in x:\n",
        "        norm+=elt**2\n",
        "    norm=sqrt(norm)\n",
        "    return(norm)\n",
        "\n",
        "def similarity(x,y):\n",
        "    sim=np.dot(x, y)\n",
        "    sim=sim/(norm(x)*norm(y))\n",
        "    return(sim)\n",
        "\n",
        "#Hungarian Algorithm (a.k.a. the Kuhn-Munkres algorithm) sur 2 chunks : aligner mots pour meilleur score possible\n",
        "from scipy.optimize import linear_sum_assignment\n",
        "\n",
        "def alignment_mots(chunk_1, chunk_2):\n",
        "    if len(chunk_2)<len(chunk_1): ##If more rows than columns, not every row needs to be assigned to a column, and vice versa.\n",
        "    #Toujours prendre plus petit chunk comme premier chunk !!!!\n",
        "        a, b=chunk_2, chunk_1\n",
        "    else:\n",
        "        a, b=chunk_1, chunk_2\n",
        "    cost=[]\n",
        "    for i in range (len(a)): #chunk_1\n",
        "        inter=[]\n",
        "        for j in range(len(b)): #chunk_2\n",
        "            inter.append(similarity(a[i], b[j])) #chunk_1[i], chunk_2[j]\n",
        "        cost.append(inter)\n",
        "    cost=np.array(cost)\n",
        "    #print(cost)\n",
        "\n",
        "    row_ind, col_ind = linear_sum_assignment(-cost) #- car linear_sum_assignment minimise normalement\n",
        "    sim=cost[row_ind, col_ind].sum() #score de similarité entre 2 chunks\n",
        "    return(sim) #col_ind, #col_ind donne alignement des mots pour obtenir meilleur score de similarité possible\n",
        " \n",
        "def min_max_scaler(sim):\n",
        "    scaled=[]\n",
        "    a, b=np.max(sim), np.min(sim)\n",
        "    for elt in sim:\n",
        "        inter=(elt-b)/(a-b)\n",
        "        inter=inter*5 #Pour avoir des scores entre 0 et 5\n",
        "        inter=round(inter) #Pour avoir des scores entiers\n",
        "        scaled.append(inter)\n",
        "    return(scaled)\n",
        "\n",
        "#Hungarian Algorithm (a.k.a. the Kuhn-Munkres algorithm) : aligner chunks pour meilleur score possible de phrase \n",
        "\n",
        "def alignment_chunks(sentence_1, sentence_2):\n",
        "    cost=[]\n",
        "    if len(sentence_2)<len(sentence_1): ##If more rows than columns, not every row needs to be assigned to a column, and vice versa.\n",
        "        #Toujours prendre plus petite sentence comme première sentence !!!!\n",
        "        a, b=sentence_2, sentence_1\n",
        "        inv=True\n",
        "    else:\n",
        "        a, b=sentence_1, sentence_2\n",
        "        inv=False\n",
        "\n",
        "    for i in range (len(a)):\n",
        "        inter=[]\n",
        "        for j in range(len(b)):\n",
        "            sim=alignment_mots(a[i], b[j])        \n",
        "            inter.append(sim)\n",
        "        cost.append(inter)\n",
        "    cost=np.array(cost)\n",
        "\n",
        "    #Possibilité amélioration : Normalize chunk similarity by number of tokens in shorter chunk \n",
        "    #such that it assigned higher scores to pairs of chunks such as physician and general physician.\n",
        "\n",
        "    row_ind, col_ind = linear_sum_assignment(-cost) #- car linear_sum_assignment minimise normalement\n",
        "    sim=cost[row_ind, col_ind] #Liste de score de similarité pour chaque alignement optimal de chunks\n",
        "\n",
        "    if inv:\n",
        "        row_ind, col_ind=col_ind, row_ind\n",
        "\n",
        "    #sim=min_max_scaler(sim) => PEUT ETRE FAIRE MIN MAX SCALER SUR CORPUS PLUS GRAND QUE 2 PHRASES ?? PB SI 2 PHRASES TRES DIFF\n",
        "    #print(sim) #print(row_ind, col_ind)\n",
        "\n",
        "    list_couples_chunks_et_score=[]\n",
        "    for i in range(len(sim)):\n",
        "        list_couples_chunks_et_score.append((row_ind[i], col_ind[i], sim[i]))\n",
        "    return(list_couples_chunks_et_score)"
      ],
      "metadata": {
        "id": "IPhvCFbL7o6U"
      },
      "execution_count": null,
      "outputs": []
    },
    {
      "cell_type": "code",
      "source": [
        "def create_list_of_embedded_chunks_exploitable_for_alignement(chunked_sentence):\n",
        "  list_sentence=[]\n",
        "  chunk=''\n",
        "  for i in range(len(chunked_sentence)):\n",
        "    elt=chunked_sentence[i]\n",
        "    if elt!='[' or elt !=']' or elt!=' ':\n",
        "      chunk+=elt\n",
        "    if elt==']':\n",
        "      chunk=removeNoise(chunk)\n",
        "      list_sentence.append(chunk)\n",
        "      chunk=''\n",
        "\n",
        "  list_sentence_embedded=[]\n",
        "  for elt in list_sentence:\n",
        "    inter=elt.split(' ')\n",
        "    inter_copy=inter[:] #inter without '\n",
        "    for elt_bis in inter_copy:\n",
        "      if elt_bis=='':\n",
        "        inter_copy.remove(elt_bis)\n",
        "    inter_embedded=[]\n",
        "    for elt_ter in inter_copy:\n",
        "      elt=vectorizer(elt_ter)\n",
        "      elt=elt.numpy()\n",
        "      elt=list(elt)\n",
        "      if len(elt)!=0:\n",
        "        inter_embedded.append(elt)\n",
        "    list_sentence_embedded.append(inter_embedded)\n",
        "\n",
        "  return(list_sentence_embedded)"
      ],
      "metadata": {
        "id": "GUe--bIk-Gcc"
      },
      "execution_count": null,
      "outputs": []
    },
    {
      "cell_type": "code",
      "source": [
        "#Certaines sentences ne fonctionnent pas => Pourquoi ?\n",
        "n= 10#len(testSamplesChunked)\n",
        "\n",
        "n_failed=0\n",
        "\n",
        "for i in range(n-1):\n",
        "  for j in range(i+1,n):\n",
        "    try:\n",
        "\n",
        "      sentence_1=testSamplesChunked[i]\n",
        "      sentence_2=testSamplesChunked[j]\n",
        "\n",
        "      sentence_a=create_list_of_embedded_chunks_exploitable_for_alignement(sentence_1)\n",
        "      sentence_b=create_list_of_embedded_chunks_exploitable_for_alignement(sentence_2)\n",
        "\n",
        "      print(alignment_chunks(sentence_a, sentence_b))\n",
        "    except:\n",
        "      n_failed+=1\n",
        "      pass"
      ],
      "metadata": {
        "id": "Nc1LI-fEFAPD"
      },
      "execution_count": null,
      "outputs": []
    },
    {
      "cell_type": "code",
      "source": [
        "nb_couples=n*(n+1)*0.5\n",
        "print(n_failed/nb_couples) #Proportions de combinaisons ne fonctionnant pas "
      ],
      "metadata": {
        "id": "wV671iZDFKPH"
      },
      "execution_count": null,
      "outputs": []
    }
  ]
}